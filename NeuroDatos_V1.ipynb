{
 "cells": [
  {
   "cell_type": "code",
   "execution_count": 1,
   "id": "raising-joyce",
   "metadata": {},
   "outputs": [],
   "source": [
    "%load_ext tensorboard"
   ]
  },
  {
   "cell_type": "code",
   "execution_count": 2,
   "id": "endless-asbestos",
   "metadata": {},
   "outputs": [
    {
     "name": "stdout",
     "output_type": "stream",
     "text": [
      "Model: \"sequential\"\n",
      "_________________________________________________________________\n",
      "Layer (type)                 Output Shape              Param #   \n",
      "=================================================================\n",
      "Dense_1 (Dense)              (None, 32)                1024      \n",
      "_________________________________________________________________\n",
      "Dense_2 (Dense)              (None, 64)                2112      \n",
      "_________________________________________________________________\n",
      "Softmax (Dense)              (None, 2)                 130       \n",
      "=================================================================\n",
      "Total params: 3,266\n",
      "Trainable params: 3,266\n",
      "Non-trainable params: 0\n",
      "_________________________________________________________________\n",
      "Epoch 1/10\n",
      "5/5 [==============================] - 1s 189ms/step - loss: 0.2552 - mse: 0.2541 - accuracy: 0.4997 - val_loss: 0.2520 - val_mse: 0.2509 - val_accuracy: 0.2857\n",
      "Epoch 2/10\n",
      "5/5 [==============================] - 0s 10ms/step - loss: 0.2521 - mse: 0.2510 - accuracy: 0.3507 - val_loss: 0.2522 - val_mse: 0.2511 - val_accuracy: 0.7143\n",
      "Epoch 3/10\n",
      "5/5 [==============================] - 0s 10ms/step - loss: 0.2520 - mse: 0.2509 - accuracy: 0.6839 - val_loss: 0.2511 - val_mse: 0.2501 - val_accuracy: 0.4286\n",
      "Epoch 4/10\n",
      "5/5 [==============================] - 0s 10ms/step - loss: 0.2514 - mse: 0.2504 - accuracy: 0.3057 - val_loss: 0.2510 - val_mse: 0.2500 - val_accuracy: 0.5714\n",
      "Epoch 5/10\n",
      "5/5 [==============================] - 0s 10ms/step - loss: 0.2511 - mse: 0.2501 - accuracy: 0.4979 - val_loss: 0.2512 - val_mse: 0.2502 - val_accuracy: 0.7143\n",
      "Epoch 6/10\n",
      "5/5 [==============================] - 0s 10ms/step - loss: 0.2512 - mse: 0.2502 - accuracy: 0.4813 - val_loss: 0.2510 - val_mse: 0.2500 - val_accuracy: 0.4286\n",
      "Epoch 7/10\n",
      "5/5 [==============================] - 0s 10ms/step - loss: 0.2511 - mse: 0.2501 - accuracy: 0.3431 - val_loss: 0.2510 - val_mse: 0.2500 - val_accuracy: 0.5714\n",
      "Epoch 8/10\n",
      "5/5 [==============================] - 0s 10ms/step - loss: 0.2511 - mse: 0.2502 - accuracy: 0.5524 - val_loss: 0.2510 - val_mse: 0.2501 - val_accuracy: 0.7143\n",
      "Epoch 9/10\n",
      "5/5 [==============================] - 0s 11ms/step - loss: 0.2511 - mse: 0.2502 - accuracy: 0.4314 - val_loss: 0.2510 - val_mse: 0.2500 - val_accuracy: 0.4286\n",
      "Epoch 10/10\n",
      "5/5 [==============================] - 0s 10ms/step - loss: 0.2510 - mse: 0.2501 - accuracy: 0.4924 - val_loss: 0.2511 - val_mse: 0.2502 - val_accuracy: 0.7143\n"
     ]
    },
    {
     "data": {
      "text/plain": [
       "<tensorflow.python.keras.callbacks.History at 0x2369eff2e88>"
      ]
     },
     "execution_count": 2,
     "metadata": {},
     "output_type": "execute_result"
    }
   ],
   "source": [
    "import numpy as np \n",
    "import pandas as pd\n",
    "from sklearn.impute import SimpleImputer\n",
    "from sklearn import preprocessing\n",
    "from sklearn.model_selection import train_test_split\n",
    "from tensorflow.keras.models import Sequential\n",
    "from tensorflow.keras.layers import Dense\n",
    "from tensorflow.keras.layers import Dropout\n",
    "from tensorflow.keras.layers import BatchNormalization\n",
    "from tensorflow.keras import regularizers\n",
    "import tensorflow as tf\n",
    "import datetime\n",
    "from tensorboard.plugins.hparams import api as hp\n",
    "\n",
    "data=pd.read_excel('datos.xls')\n",
    "\n",
    "X = data.iloc[:,:31]\n",
    "X=X.values\n",
    "y =data.iloc[:,32]\n",
    "y=y.values\n",
    "\n",
    "imp = SimpleImputer(missing_values=np.nan, strategy='mean')\n",
    "imp.fit(X)\n",
    "SimpleImputer()\n",
    "X = imp.transform(X)\n",
    "\n",
    "X_normalized = preprocessing.normalize(X, norm='l2')\n",
    "\n",
    "train_data, test_data, train_targets, test_targets = train_test_split(X_normalized, y, test_size=0.1)\n",
    "\n",
    "def get_regularised_model(wd, rate):\n",
    "    model = Sequential([\n",
    "        Dense(32, name='Dense_1', kernel_regularizer=regularizers.l2(wd), \n",
    "              kernel_initializer='he_uniform', bias_initializer='ones',\n",
    "              activation=\"relu\", input_shape=(train_data.shape[1],)),\n",
    "        \n",
    "        #BatchNormalization(name='Norm_1'),  # <- Batch normalisation layer\n",
    "        #Dropout(rate, name='Drop_1'),\n",
    "        #BatchNormalization(name='Norm_2'),  # <- Batch normalisation layer\n",
    "    \n",
    "        Dense(128/2, name='Dense_2', kernel_regularizer=regularizers.l2(wd), activation=\"relu\"),\n",
    "        #Dropout(rate, name='Drop_2'),\n",
    "        Dense(2,  name='Softmax', activation='softmax')\n",
    "    ])\n",
    "    return model \n",
    "\n",
    "model = get_regularised_model(1e-5, 0.1)\n",
    "model.summary()\n",
    "\n",
    "opt = tf.keras.optimizers.Adam(learning_rate=0.001)\n",
    "\n",
    "model.compile(optimizer=opt,\n",
    "              loss='mse',\n",
    "              metrics=['mse','accuracy'])\n",
    "\n",
    "\n",
    "log_dir = \"logs2/fit/\" + datetime.datetime.now().strftime(\"%Y%m%d-%H%M%S\")\n",
    "tensorboard_callback = tf.keras.callbacks.TensorBoard(log_dir=log_dir, histogram_freq=1)\n",
    "\n",
    "#history = model.fit(train_data, train_targets, epochs=100, \n",
    "#                    validation_split=0.15, batch_size=64, verbose=2)\n",
    "\n",
    "model.fit(x=train_data, \n",
    "          y=train_targets, \n",
    "          epochs=10, \n",
    "          batch_size=8,\n",
    "          validation_split=0.15, \n",
    "          callbacks=[tensorboard_callback])"
   ]
  },
  {
   "cell_type": "code",
   "execution_count": 9,
   "id": "worldwide-batman",
   "metadata": {
    "scrolled": true
   },
   "outputs": [
    {
     "data": {
      "text/plain": [
       "Reusing TensorBoard on port 6006 (pid 17192), started 0:04:22 ago. (Use '!kill 17192' to kill it.)"
      ]
     },
     "metadata": {},
     "output_type": "display_data"
    },
    {
     "data": {
      "text/html": [
       "\n",
       "      <iframe id=\"tensorboard-frame-866844faa1d4a4fc\" width=\"100%\" height=\"800\" frameborder=\"0\">\n",
       "      </iframe>\n",
       "      <script>\n",
       "        (function() {\n",
       "          const frame = document.getElementById(\"tensorboard-frame-866844faa1d4a4fc\");\n",
       "          const url = new URL(\"/\", window.location);\n",
       "          const port = 6006;\n",
       "          if (port) {\n",
       "            url.port = port;\n",
       "          }\n",
       "          frame.src = url;\n",
       "        })();\n",
       "      </script>\n",
       "    "
      ],
      "text/plain": [
       "<IPython.core.display.HTML object>"
      ]
     },
     "metadata": {},
     "output_type": "display_data"
    }
   ],
   "source": [
    "%tensorboard --logdir=logs2/fit"
   ]
  },
  {
   "cell_type": "code",
   "execution_count": 5,
   "id": "efficient-invention",
   "metadata": {},
   "outputs": [
    {
     "data": {
      "image/png": "[encoded data removed]",
      "text/plain": [
       "<IPython.core.display.Image object>"
      ]
     },
     "execution_count": 5,
     "metadata": {},
     "output_type": "execute_result"
    }
   ],
   "source": [
    "tf.keras.utils.plot_model(\n",
    "    model, to_file='model.png', show_shapes=False, show_dtype=False,\n",
    "    show_layer_names=True, rankdir='TB', expand_nested=False, dpi=96\n",
    ")"
   ]
  },
  {
   "cell_type": "code",
   "execution_count": null,
   "id": "aging-observation",
   "metadata": {},
   "outputs": [],
   "source": []
  }
 ],
 "metadata": {
  "kernelspec": {
   "display_name": "Python 3",
   "language": "python",
   "name": "python3"
  },
  "language_info": {
   "codemirror_mode": {
    "name": "ipython",
    "version": 3
   },
   "file_extension": ".py",
   "mimetype": "text/x-python",
   "name": "python",
   "nbconvert_exporter": "python",
   "pygments_lexer": "ipython3",
   "version": "3.7.9"
  }
 },
 "nbformat": 4,
 "nbformat_minor": 5
}
